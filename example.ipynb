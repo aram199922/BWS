{
 "cells": [
  {
   "cell_type": "markdown",
   "metadata": {},
   "source": [
    "# Package myBWS: Conducting Max-Diff surveys (Best-Worst Scaling)\n",
    "\n",
    "In this example file all the functionalities and the features will be showcased.\n",
    "#### Please follow the instructions that are given in order to achieve the desired results."
   ]
  },
  {
   "cell_type": "markdown",
   "metadata": {},
   "source": [
    "## Step 1:\n",
    "In this step product owners provide their company name, product name and the list of attributes characterizing the product.\n",
    "\n",
    "For the company's product and attributes a corresponding structured survey will be designed and pushed into the database. (BIBD (balanced incomplete block design): meaning that each attribute is shown equally, moreover the attributes are shown equally pairwise.)\n",
    "\n",
    "In order to provide the product details one should run the run_business_owner_details.py file for activating API.\n",
    "\n",
    "The provided link will give the opportunity to fill in the product details which will be then stored in the database."
   ]
  },
  {
   "cell_type": "code",
   "execution_count": 1,
   "metadata": {},
   "outputs": [
    {
     "name": "stderr",
     "output_type": "stream",
     "text": [
      "\u001b[38;5;183m2024-05-12 23:05:54,855 - db_interactions.py - get_attributes - INFO - (Attributes have been found) - line: 159\u001b[0m\n",
      "\u001b[38;5;183m2024-05-12 23:06:04,955 - db_interactions.py - read_table - INFO - (Table has been shown) - line: 185\u001b[0m\n",
      "\u001b[38;5;183m2024-05-12 23:06:04,957 - db_interactions.py - close - INFO - (the connection has been closed) - line: 49\u001b[0m\n",
      "\u001b[38;5;183m2024-05-12 23:06:05,364 - db_interactions.py - close - INFO - (the connection has been closed) - line: 49\u001b[0m\n",
      "\u001b[38;5;183m2024-05-12 23:06:05,399 - db_interactions.py - pandas_to_sql - INFO - (Pandas To SQL) - line: 421\u001b[0m\n",
      "\u001b[38;5;183m2024-05-12 23:06:05,402 - db_interactions.py - close - INFO - (the connection has been closed) - line: 49\u001b[0m\n"
     ]
    },
    {
     "data": {
      "text/html": [
       "<div>\n",
       "<style scoped>\n",
       "    .dataframe tbody tr th:only-of-type {\n",
       "        vertical-align: middle;\n",
       "    }\n",
       "\n",
       "    .dataframe tbody tr th {\n",
       "        vertical-align: top;\n",
       "    }\n",
       "\n",
       "    .dataframe thead th {\n",
       "        text-align: right;\n",
       "    }\n",
       "</style>\n",
       "<table border=\"1\" class=\"dataframe\">\n",
       "  <thead>\n",
       "    <tr style=\"text-align: right;\">\n",
       "      <th></th>\n",
       "      <th>Block</th>\n",
       "      <th>Task</th>\n",
       "      <th>item1</th>\n",
       "      <th>item2</th>\n",
       "      <th>item3</th>\n",
       "      <th>item4</th>\n",
       "      <th>item5</th>\n",
       "    </tr>\n",
       "  </thead>\n",
       "  <tbody>\n",
       "    <tr>\n",
       "      <th>0</th>\n",
       "      <td>1</td>\n",
       "      <td>1</td>\n",
       "      <td>weight</td>\n",
       "      <td>display</td>\n",
       "      <td>width</td>\n",
       "      <td>height</td>\n",
       "      <td>memory</td>\n",
       "    </tr>\n",
       "    <tr>\n",
       "      <th>1</th>\n",
       "      <td>1</td>\n",
       "      <td>2</td>\n",
       "      <td>camera</td>\n",
       "      <td>memory</td>\n",
       "      <td>operating system</td>\n",
       "      <td>width</td>\n",
       "      <td>height</td>\n",
       "    </tr>\n",
       "    <tr>\n",
       "      <th>2</th>\n",
       "      <td>1</td>\n",
       "      <td>3</td>\n",
       "      <td>depth</td>\n",
       "      <td>operating system</td>\n",
       "      <td>display</td>\n",
       "      <td>weight</td>\n",
       "      <td>battery</td>\n",
       "    </tr>\n",
       "    <tr>\n",
       "      <th>3</th>\n",
       "      <td>1</td>\n",
       "      <td>4</td>\n",
       "      <td>battery</td>\n",
       "      <td>width</td>\n",
       "      <td>weight</td>\n",
       "      <td>memory</td>\n",
       "      <td>operating system</td>\n",
       "    </tr>\n",
       "    <tr>\n",
       "      <th>4</th>\n",
       "      <td>1</td>\n",
       "      <td>5</td>\n",
       "      <td>display</td>\n",
       "      <td>memory</td>\n",
       "      <td>face ID</td>\n",
       "      <td>operating system</td>\n",
       "      <td>camera</td>\n",
       "    </tr>\n",
       "  </tbody>\n",
       "</table>\n",
       "</div>"
      ],
      "text/plain": [
       "   Block  Task    item1             item2             item3             item4  \\\n",
       "0      1     1   weight           display             width            height   \n",
       "1      1     2   camera            memory  operating system             width   \n",
       "2      1     3    depth  operating system           display            weight   \n",
       "3      1     4  battery             width            weight            memory   \n",
       "4      1     5  display            memory           face ID  operating system   \n",
       "\n",
       "              item5  \n",
       "0            memory  \n",
       "1            height  \n",
       "2           battery  \n",
       "3  operating system  \n",
       "4            camera  "
      ]
     },
     "execution_count": 1,
     "metadata": {},
     "output_type": "execute_result"
    }
   ],
   "source": [
    "from BWS.model.analysis import get_survey_design, push_survey_design\n",
    "\n",
    "survey_design = get_survey_design('Apple__Iphone')\n",
    "push_survey_design('Apple__Iphone', survey_design)\n",
    "survey_design.head()"
   ]
  },
  {
   "cell_type": "markdown",
   "metadata": {},
   "source": [
    "## Step 2:\n",
    "\n",
    "In this step the survey will be conducted, users will answer to several demographic questions such as age category and gender, and then move on to answer the best-worst scaling questions.\n",
    "\n",
    "Best-Worst Scaling questions: Users will see a subset of the original attributes list, provided by the product owners and pick one as best and one as worst. Users will do multiple tasks of this form, which will give the opportunity to get more precise results(analysis).\n",
    "\n",
    "The package also determines the optimal number of tasks that the user will have to complete. Package is picking the number of tasks such that users will not get tired and simultaneously, the analysis will be statistically significant and precise.\n",
    "\n",
    "In order to start conducting the survey one should run the run_respondent.py file for activating API.\n",
    "\n",
    "The provided link will give the opportunity to complete the survey for the user.\n"
   ]
  },
  {
   "cell_type": "markdown",
   "metadata": {},
   "source": [
    "## Step 3:\n",
    "\n",
    "In this step, assuming that the survey is already completed and all the users already answered to the questions, the analysis will be conducted and served back to the product owners.\n",
    "\n",
    "Analysis data includes: \n",
    "1. A simple demographic result of counts\n",
    "2. A general importance result, which will showcase the relative importance of each attribute in the attributes list.\n",
    "3. An importance result through the demographics. For example, for gender it will showcase the relative importances of each attribute separately both for male and female.\n",
    "\n",
    "First, the analysis will be conducted and pushed into the database. Secondly, these analysis will be served to the product owners.\n",
    "\n",
    "In order to get the analysis one should run the run_business_owner_analysis.py file for activating API.\n",
    "\n",
    "The provided link will give the opportunity to get the analysis (one should provide the company and the product name to access the analysis)."
   ]
  },
  {
   "cell_type": "code",
   "execution_count": 2,
   "metadata": {},
   "outputs": [
    {
     "name": "stderr",
     "output_type": "stream",
     "text": [
      "\u001b[38;5;183m2024-05-12 23:06:05,489 - db_interactions.py - read_table - INFO - (Table has been shown) - line: 185\u001b[0m\n",
      "\u001b[38;5;183m2024-05-12 23:06:05,534 - db_interactions.py - pandas_to_sql - INFO - (Pandas To SQL) - line: 421\u001b[0m\n",
      "\u001b[38;5;183m2024-05-12 23:06:05,537 - db_interactions.py - close - INFO - (the connection has been closed) - line: 49\u001b[0m\n",
      "\u001b[38;5;183m2024-05-12 23:06:05,560 - db_interactions.py - read_table - INFO - (Table has been shown) - line: 185\u001b[0m\n",
      "\u001b[38;5;183m2024-05-12 23:06:05,631 - db_interactions.py - pandas_to_sql - INFO - (Pandas To SQL) - line: 421\u001b[0m\n",
      "\u001b[38;5;183m2024-05-12 23:06:05,633 - db_interactions.py - close - INFO - (the connection has been closed) - line: 49\u001b[0m\n",
      "\u001b[38;5;183m2024-05-12 23:06:05,654 - db_interactions.py - read_table - INFO - (Table has been shown) - line: 185\u001b[0m\n",
      "c:\\Users\\Nare\\OneDrive\\Desktop\\BWS\\BWS\\utils.py:204: FutureWarning: The behavior of DataFrame concatenation with empty or all-NA entries is deprecated. In a future version, this will no longer exclude empty or all-NA columns when determining the result dtypes. To retain the old behavior, exclude the relevant entries before the concat operation.\n",
      "  result = pd.concat([result, new_row_df], ignore_index=True)\n",
      "\u001b[38;5;183m2024-05-12 23:06:05,903 - db_interactions.py - pandas_to_sql - INFO - (Pandas To SQL) - line: 421\u001b[0m\n",
      "\u001b[38;5;183m2024-05-12 23:06:05,904 - db_interactions.py - close - INFO - (the connection has been closed) - line: 49\u001b[0m\n"
     ]
    }
   ],
   "source": [
    "from BWS.model.analysis import push_analysis1, push_analysis2, push_analysis3\n",
    "\n",
    "push_analysis1('Apple__Iphone')  \n",
    "push_analysis2('Apple__Iphone') \n",
    "push_analysis3('Apple__Iphone')"
   ]
  },
  {
   "cell_type": "markdown",
   "metadata": {},
   "source": [
    "After pushing the analysis one can access the API and get it by the instructions provided above\n",
    "\n",
    "http://127.0.0.1:8003/analysis?company_name=Apple&product_name=Iphone"
   ]
  }
 ],
 "metadata": {
  "kernelspec": {
   "display_name": "venv",
   "language": "python",
   "name": "python3"
  },
  "language_info": {
   "codemirror_mode": {
    "name": "ipython",
    "version": 3
   },
   "file_extension": ".py",
   "mimetype": "text/x-python",
   "name": "python",
   "nbconvert_exporter": "python",
   "pygments_lexer": "ipython3",
   "version": "3.11.9"
  }
 },
 "nbformat": 4,
 "nbformat_minor": 2
}

{
 "cells": [
  {
   "cell_type": "markdown",
   "metadata": {},
   "source": [
    "# Package myBWS: Conducting Max-Diff surveys (Best-Worst Scaling)\n",
    "\n",
    "In this example file all the functionalities and the features will be showcased.\n",
    "#### Please follow the instructions that are given in order to achieve the desired results."
   ]
  },
  {
   "cell_type": "markdown",
   "metadata": {},
   "source": [
    "## Step 1:\n",
    "In this step product owners provide their company name, product name and the list of attributes characterizing the product.\n",
    "\n",
    "For the company's product and attributes a corresponding structured survey will be designed and pushed into the database. (BIBD (balanced incomplete block design): meaning that each attribute is shown equally, moreover the attributes are shown equally pairwise.)\n",
    "\n",
    "In order to provide the product details one should run the run_business_owner_details.py file for activating API.\n",
    "\n",
    "The provided link will give the opportunity to fill in the product details which will be then stored in the database."
   ]
  },
  {
   "cell_type": "code",
   "execution_count": 1,
   "metadata": {},
   "outputs": [
    {
     "name": "stderr",
     "output_type": "stream",
     "text": [
      "\u001b[38;5;183m2024-05-12 21:29:11,592 - db_interactions.py - get_attributes - INFO - (Attrbiutes has been found) - line: 159\u001b[0m\n",
      "\u001b[38;5;183m2024-05-12 21:29:22,545 - db_interactions.py - read_table - INFO - (Table has been shown) - line: 185\u001b[0m\n",
      "\u001b[38;5;183m2024-05-12 21:29:22,549 - db_interactions.py - close - INFO - (the connection has been closed) - line: 49\u001b[0m\n",
      "\u001b[38;5;183m2024-05-12 21:29:22,856 - db_interactions.py - close - INFO - (the connection has been closed) - line: 49\u001b[0m\n",
      "\u001b[38;5;183m2024-05-12 21:29:22,893 - db_interactions.py - pandas_to_sql - INFO - (Pandas To SQL) - line: 421\u001b[0m\n",
      "\u001b[38;5;183m2024-05-12 21:29:22,895 - db_interactions.py - close - INFO - (the connection has been closed) - line: 49\u001b[0m\n"
     ]
    },
    {
     "data": {
      "text/html": [
       "<div>\n",
       "<style scoped>\n",
       "    .dataframe tbody tr th:only-of-type {\n",
       "        vertical-align: middle;\n",
       "    }\n",
       "\n",
       "    .dataframe tbody tr th {\n",
       "        vertical-align: top;\n",
       "    }\n",
       "\n",
       "    .dataframe thead th {\n",
       "        text-align: right;\n",
       "    }\n",
       "</style>\n",
       "<table border=\"1\" class=\"dataframe\">\n",
       "  <thead>\n",
       "    <tr style=\"text-align: right;\">\n",
       "      <th></th>\n",
       "      <th>Block</th>\n",
       "      <th>Task</th>\n",
       "      <th>item1</th>\n",
       "      <th>item2</th>\n",
       "      <th>item3</th>\n",
       "      <th>item4</th>\n",
       "      <th>item5</th>\n",
       "    </tr>\n",
       "  </thead>\n",
       "  <tbody>\n",
       "    <tr>\n",
       "      <th>0</th>\n",
       "      <td>1</td>\n",
       "      <td>1</td>\n",
       "      <td>weight</td>\n",
       "      <td>display</td>\n",
       "      <td>width</td>\n",
       "      <td>height</td>\n",
       "      <td>memory</td>\n",
       "    </tr>\n",
       "    <tr>\n",
       "      <th>1</th>\n",
       "      <td>1</td>\n",
       "      <td>2</td>\n",
       "      <td>camera</td>\n",
       "      <td>memory</td>\n",
       "      <td>operating system</td>\n",
       "      <td>width</td>\n",
       "      <td>height</td>\n",
       "    </tr>\n",
       "    <tr>\n",
       "      <th>2</th>\n",
       "      <td>1</td>\n",
       "      <td>3</td>\n",
       "      <td>depth</td>\n",
       "      <td>operating system</td>\n",
       "      <td>display</td>\n",
       "      <td>weight</td>\n",
       "      <td>battery</td>\n",
       "    </tr>\n",
       "    <tr>\n",
       "      <th>3</th>\n",
       "      <td>1</td>\n",
       "      <td>4</td>\n",
       "      <td>battery</td>\n",
       "      <td>width</td>\n",
       "      <td>weight</td>\n",
       "      <td>memory</td>\n",
       "      <td>operating system</td>\n",
       "    </tr>\n",
       "    <tr>\n",
       "      <th>4</th>\n",
       "      <td>1</td>\n",
       "      <td>5</td>\n",
       "      <td>display</td>\n",
       "      <td>memory</td>\n",
       "      <td>face ID</td>\n",
       "      <td>operating system</td>\n",
       "      <td>camera</td>\n",
       "    </tr>\n",
       "  </tbody>\n",
       "</table>\n",
       "</div>"
      ],
      "text/plain": [
       "   Block  Task    item1             item2             item3             item4  \\\n",
       "0      1     1   weight           display             width            height   \n",
       "1      1     2   camera            memory  operating system             width   \n",
       "2      1     3    depth  operating system           display            weight   \n",
       "3      1     4  battery             width            weight            memory   \n",
       "4      1     5  display            memory           face ID  operating system   \n",
       "\n",
       "              item5  \n",
       "0            memory  \n",
       "1            height  \n",
       "2           battery  \n",
       "3  operating system  \n",
       "4            camera  "
      ]
     },
     "execution_count": 1,
     "metadata": {},
     "output_type": "execute_result"
    }
   ],
   "source": [
    "from BWS.model.analysis import get_survey_design, push_survey_design\n",
    "\n",
    "survey_design = get_survey_design('Apple__Iphone')\n",
    "push_survey_design('Apple__Iphone', survey_design)\n",
    "survey_design.head()"
   ]
  }
 ],
 "metadata": {
  "kernelspec": {
   "display_name": "venv",
   "language": "python",
   "name": "python3"
  },
  "language_info": {
   "codemirror_mode": {
    "name": "ipython",
    "version": 3
   },
   "file_extension": ".py",
   "mimetype": "text/x-python",
   "name": "python",
   "nbconvert_exporter": "python",
   "pygments_lexer": "ipython3",
   "version": "3.11.9"
  }
 },
 "nbformat": 4,
 "nbformat_minor": 2
}
